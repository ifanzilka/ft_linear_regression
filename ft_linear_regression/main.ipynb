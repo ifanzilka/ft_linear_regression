{
 "cells": [
  {
   "cell_type": "code",
   "execution_count": 1,
   "metadata": {},
   "outputs": [],
   "source": [
    "import pandas as pd\n",
    "import numpy as np\n",
    "import matplotlib.pyplot as plt\n",
    "from mylinearregression import MyLinearRegression as MyLR\n",
    "from utils import data_spliter, r2score_"
   ]
  },
  {
   "cell_type": "code",
   "execution_count": 2,
   "metadata": {},
   "outputs": [
    {
     "data": {
      "text/html": [
       "<div>\n",
       "<style scoped>\n",
       "    .dataframe tbody tr th:only-of-type {\n",
       "        vertical-align: middle;\n",
       "    }\n",
       "\n",
       "    .dataframe tbody tr th {\n",
       "        vertical-align: top;\n",
       "    }\n",
       "\n",
       "    .dataframe thead th {\n",
       "        text-align: right;\n",
       "    }\n",
       "</style>\n",
       "<table border=\"1\" class=\"dataframe\">\n",
       "  <thead>\n",
       "    <tr style=\"text-align: right;\">\n",
       "      <th></th>\n",
       "      <th>km</th>\n",
       "      <th>price</th>\n",
       "    </tr>\n",
       "  </thead>\n",
       "  <tbody>\n",
       "    <tr>\n",
       "      <th>0</th>\n",
       "      <td>240000</td>\n",
       "      <td>3650</td>\n",
       "    </tr>\n",
       "    <tr>\n",
       "      <th>1</th>\n",
       "      <td>139800</td>\n",
       "      <td>3800</td>\n",
       "    </tr>\n",
       "    <tr>\n",
       "      <th>2</th>\n",
       "      <td>150500</td>\n",
       "      <td>4400</td>\n",
       "    </tr>\n",
       "    <tr>\n",
       "      <th>3</th>\n",
       "      <td>185530</td>\n",
       "      <td>4450</td>\n",
       "    </tr>\n",
       "    <tr>\n",
       "      <th>4</th>\n",
       "      <td>176000</td>\n",
       "      <td>5250</td>\n",
       "    </tr>\n",
       "    <tr>\n",
       "      <th>5</th>\n",
       "      <td>114800</td>\n",
       "      <td>5350</td>\n",
       "    </tr>\n",
       "    <tr>\n",
       "      <th>6</th>\n",
       "      <td>166800</td>\n",
       "      <td>5800</td>\n",
       "    </tr>\n",
       "    <tr>\n",
       "      <th>7</th>\n",
       "      <td>89000</td>\n",
       "      <td>5990</td>\n",
       "    </tr>\n",
       "    <tr>\n",
       "      <th>8</th>\n",
       "      <td>144500</td>\n",
       "      <td>5999</td>\n",
       "    </tr>\n",
       "    <tr>\n",
       "      <th>9</th>\n",
       "      <td>84000</td>\n",
       "      <td>6200</td>\n",
       "    </tr>\n",
       "    <tr>\n",
       "      <th>10</th>\n",
       "      <td>82029</td>\n",
       "      <td>6390</td>\n",
       "    </tr>\n",
       "    <tr>\n",
       "      <th>11</th>\n",
       "      <td>63060</td>\n",
       "      <td>6390</td>\n",
       "    </tr>\n",
       "    <tr>\n",
       "      <th>12</th>\n",
       "      <td>74000</td>\n",
       "      <td>6600</td>\n",
       "    </tr>\n",
       "    <tr>\n",
       "      <th>13</th>\n",
       "      <td>97500</td>\n",
       "      <td>6800</td>\n",
       "    </tr>\n",
       "    <tr>\n",
       "      <th>14</th>\n",
       "      <td>67000</td>\n",
       "      <td>6800</td>\n",
       "    </tr>\n",
       "    <tr>\n",
       "      <th>15</th>\n",
       "      <td>76025</td>\n",
       "      <td>6900</td>\n",
       "    </tr>\n",
       "    <tr>\n",
       "      <th>16</th>\n",
       "      <td>48235</td>\n",
       "      <td>6900</td>\n",
       "    </tr>\n",
       "    <tr>\n",
       "      <th>17</th>\n",
       "      <td>93000</td>\n",
       "      <td>6990</td>\n",
       "    </tr>\n",
       "    <tr>\n",
       "      <th>18</th>\n",
       "      <td>60949</td>\n",
       "      <td>7490</td>\n",
       "    </tr>\n",
       "    <tr>\n",
       "      <th>19</th>\n",
       "      <td>65674</td>\n",
       "      <td>7555</td>\n",
       "    </tr>\n",
       "    <tr>\n",
       "      <th>20</th>\n",
       "      <td>54000</td>\n",
       "      <td>7990</td>\n",
       "    </tr>\n",
       "    <tr>\n",
       "      <th>21</th>\n",
       "      <td>68500</td>\n",
       "      <td>7990</td>\n",
       "    </tr>\n",
       "    <tr>\n",
       "      <th>22</th>\n",
       "      <td>22899</td>\n",
       "      <td>7990</td>\n",
       "    </tr>\n",
       "    <tr>\n",
       "      <th>23</th>\n",
       "      <td>61789</td>\n",
       "      <td>8290</td>\n",
       "    </tr>\n",
       "  </tbody>\n",
       "</table>\n",
       "</div>"
      ],
      "text/plain": [
       "        km  price\n",
       "0   240000   3650\n",
       "1   139800   3800\n",
       "2   150500   4400\n",
       "3   185530   4450\n",
       "4   176000   5250\n",
       "5   114800   5350\n",
       "6   166800   5800\n",
       "7    89000   5990\n",
       "8   144500   5999\n",
       "9    84000   6200\n",
       "10   82029   6390\n",
       "11   63060   6390\n",
       "12   74000   6600\n",
       "13   97500   6800\n",
       "14   67000   6800\n",
       "15   76025   6900\n",
       "16   48235   6900\n",
       "17   93000   6990\n",
       "18   60949   7490\n",
       "19   65674   7555\n",
       "20   54000   7990\n",
       "21   68500   7990\n",
       "22   22899   7990\n",
       "23   61789   8290"
      ]
     },
     "execution_count": 2,
     "metadata": {},
     "output_type": "execute_result"
    }
   ],
   "source": [
    "df = pd.read_csv(\"../data/data.csv\")\n",
    "df"
   ]
  },
  {
   "cell_type": "code",
   "execution_count": 3,
   "metadata": {},
   "outputs": [
    {
     "data": {
      "text/plain": [
       "array([[240000],\n",
       "       [139800],\n",
       "       [150500],\n",
       "       [185530],\n",
       "       [176000],\n",
       "       [114800],\n",
       "       [166800],\n",
       "       [ 89000],\n",
       "       [144500],\n",
       "       [ 84000],\n",
       "       [ 82029],\n",
       "       [ 63060],\n",
       "       [ 74000],\n",
       "       [ 97500],\n",
       "       [ 67000],\n",
       "       [ 76025],\n",
       "       [ 48235],\n",
       "       [ 93000],\n",
       "       [ 60949],\n",
       "       [ 65674],\n",
       "       [ 54000],\n",
       "       [ 68500],\n",
       "       [ 22899],\n",
       "       [ 61789]])"
      ]
     },
     "execution_count": 3,
     "metadata": {},
     "output_type": "execute_result"
    }
   ],
   "source": [
    "X = np.array(df['km']).reshape(-1,1)\n",
    "Y = np.array(df['price']).reshape(-1,1)\n",
    "X"
   ]
  },
  {
   "cell_type": "code",
   "execution_count": 4,
   "metadata": {},
   "outputs": [
    {
     "data": {
      "text/plain": [
       "(24, 1)"
      ]
     },
     "execution_count": 4,
     "metadata": {},
     "output_type": "execute_result"
    }
   ],
   "source": [
    "X.shape"
   ]
  },
  {
   "cell_type": "code",
   "execution_count": 5,
   "metadata": {},
   "outputs": [],
   "source": [
    "x_train, x_test, y_train, y_test = data_spliter(X, Y, 0.8)"
   ]
  },
  {
   "cell_type": "markdown",
   "metadata": {},
   "source": [
    "### LERNING  USE NORMALIZATION"
   ]
  },
  {
   "cell_type": "code",
   "execution_count": 8,
   "metadata": {},
   "outputs": [],
   "source": [
    "MylR1 = MyLR(np.array([0,0]).reshape(-1, 1).astype('float64'), alpha=1e-3, max_iter=1000, normalize='y')"
   ]
  },
  {
   "cell_type": "code",
   "execution_count": 9,
   "metadata": {},
   "outputs": [
    {
     "name": "stdout",
     "output_type": "stream",
     "text": [
      "\n",
      "\n",
      "before denormalization [0.36213753 0.0350906 ]\n",
      "after denormalization [5.33031814e+03 8.49062035e-04]\n"
     ]
    },
    {
     "data": {
      "text/plain": [
       "(array([[5.33031814e+03],\n",
       "        [8.49062035e-04]]),\n",
       " array([[0.36213753],\n",
       "        [0.0350906 ]]))"
      ]
     },
     "execution_count": 9,
     "metadata": {},
     "output_type": "execute_result"
    }
   ],
   "source": [
    "MylR1.fit_(x_train, y_train)\n"
   ]
  },
  {
   "cell_type": "code",
   "execution_count": 11,
   "metadata": {},
   "outputs": [
    {
     "name": "stdout",
     "output_type": "stream",
     "text": [
      "\n",
      "\n",
      "before denormalization [ 2181.7289168  -1139.80855998]\n",
      "after denormalization [ 1.01268722e+07 -2.43606051e+01]\n"
     ]
    },
    {
     "data": {
      "text/plain": [
       "(array([[ 1.01268722e+07],\n",
       "        [-2.43606051e+01]]),\n",
       " array([[ 2181.7289168 ],\n",
       "        [-1139.80855998]]))"
      ]
     },
     "execution_count": 11,
     "metadata": {},
     "output_type": "execute_result"
    }
   ],
   "source": [
    "MylR1.fit_(X, Y)"
   ]
  },
  {
   "cell_type": "code",
   "execution_count": 13,
   "metadata": {},
   "outputs": [
    {
     "name": "stdout",
     "output_type": "stream",
     "text": [
      "\n",
      "\n",
      "before denormalization [ 0.66516359 -0.27995601]\n",
      "after denormalization [ 6.73635906e+03 -5.98337127e-03]\n",
      "MSE:\n",
      "28688397.680143926\n",
      "MSE: 1377043088.65, R2 Score: -824.11\n",
      "\n",
      "middle_absolute: 5356.15512099341\n"
     ]
    }
   ],
   "source": [
    "\n",
    "model =MyLR(thetas=np.array([[0], [0]]).astype('float64'), alpha=1e-3, max_iter=10000)\n",
    "for epoch in range(1):\n",
    "    normalized, not_normalized = model.fit_(X, Y)\n",
    "    Y_PRED = model.predict_(X)\n",
    "    mse = model.mse_(Y, Y_PRED)\n",
    "    r2 = r2score_(Y, Y_PRED)\n",
    "    model.thetas = not_normalized\n",
    "    middle_absolute = np.sqrt((model.cost_(X,Y)) / len(X))\n",
    "    print(\"MSE:\")\n",
    "    print(model.cost_(X,Y) / len(X))\n",
    "    print(f'MSE: {mse:.2f}, R2 Score: {r2:.2f}\\n')\n",
    "    print(f\"middle_absolute: {middle_absolute}\")\n",
    "    model.thetas = not_normalized\n"
   ]
  },
  {
   "cell_type": "code",
   "execution_count": 24,
   "metadata": {},
   "outputs": [
    {
     "name": "stdout",
     "output_type": "stream",
     "text": [
      "ETA: 3.24s [100%] |\u001b[32m████████████████████████████████████████\u001b[0m| 9999/9999 | elapsed time 3.24ss\n",
      "\n",
      "before denormalization [ 0.73485227 -0.2959486 ]\n",
      "after denormalization [ 6.83925887e+03 -5.91621838e-03]\n",
      "MSE:\n",
      "218017.34230150335\n",
      "Middle absolute: 466.9232723922672\n",
      "R2 score: 0.17866173839555166\n"
     ]
    }
   ],
   "source": [
    "MylR1 = MyLR(np.array([0,0]).reshape(-1, 1).astype('float64'), alpha=1e-3, max_iter=10000)\n",
    "MylR1.fit_(x_train, y_train)\n",
    "\n",
    "Y_PRED = MylR1.predict_(x_test)\n",
    "#print(Y_PRED)\n",
    "print(\"MSE:\")\n",
    "print(MylR1.cost_(x_test,y_test) / len(x_test))\n",
    "print(f\"Middle absolute: {np.sqrt((MylR1.cost_(x_test,y_test)) / len(x_test))}\")\n",
    "print(f\"R2 score: {r2score_(y_test, Y_PRED)}\")"
   ]
  },
  {
   "cell_type": "code",
   "execution_count": null,
   "metadata": {},
   "outputs": [],
   "source": []
  }
 ],
 "metadata": {
  "kernelspec": {
   "display_name": "Python 3",
   "language": "python",
   "name": "python3"
  },
  "language_info": {
   "codemirror_mode": {
    "name": "ipython",
    "version": 3
   },
   "file_extension": ".py",
   "mimetype": "text/x-python",
   "name": "python",
   "nbconvert_exporter": "python",
   "pygments_lexer": "ipython3",
   "version": "3.11.4"
  }
 },
 "nbformat": 4,
 "nbformat_minor": 2
}
