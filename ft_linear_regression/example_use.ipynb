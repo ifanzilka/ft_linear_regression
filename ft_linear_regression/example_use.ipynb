{
 "cells": [
  {
   "cell_type": "code",
   "execution_count": 1,
   "metadata": {},
   "outputs": [],
   "source": [
    "#!pip install easydict\n",
    "#!pip install pandas\n",
    "#!pip install neptune\n",
    "#!pip install cloudpickle"
   ]
  },
  {
   "cell_type": "code",
   "execution_count": 2,
   "metadata": {},
   "outputs": [],
   "source": [
    "import numpy as np\n",
    "from configs.linear_regression_cfg import cfg\n",
    "\n",
    "from models.linear_regression_model import LinearRegression\n",
    "from ft_datasets.linear_regression_dataset import LinRegDataset\n",
    "from utils.metrics import MSE\n",
    "from utils.visualisation import Visualisation\n",
    "\n",
    "from itertools import product"
   ]
  },
  {
   "cell_type": "code",
   "execution_count": 3,
   "metadata": {},
   "outputs": [],
   "source": [
    "dataset = LinRegDataset(cfg)\n",
    "X_train,  y_train = dataset.inputs_train, dataset.targets_train\n",
    "\n",
    "X_valid, y_valid = dataset.inputs_valid, dataset.targets_valid"
   ]
  },
  {
   "cell_type": "code",
   "execution_count": 4,
   "metadata": {},
   "outputs": [
    {
     "name": "stderr",
     "output_type": "stream",
     "text": [
      "[neptune] [warning] NeptuneWarning: The following monitoring options are disabled by default in interactive sessions: 'capture_stdout', 'capture_stderr', 'capture_traceback', and 'capture_hardware_metrics'. To enable them, set each parameter to 'True' when initializing the run. The monitoring will continue until you call run.stop() or the kernel stops. Also note: Your source files can only be tracked if you pass the path(s) to the 'source_code' argument. For help, see the Neptune docs: https://docs.neptune.ai/logging/source_code/\n"
     ]
    },
    {
     "name": "stdout",
     "output_type": "stream",
     "text": [
      "[neptune] [info   ] Neptune initialized. Open in the app: https://app.neptune.ai/ifanzilka/Linear-Regression-test/e/LIN-143\n",
      "13136.569510179123\n",
      "491.57454777236666\n",
      "352.2908270052459\n",
      "334.2805684097495\n",
      "323.70086346518724\n",
      "315.8922680382865\n",
      "309.79948646888613\n",
      "304.90855138466895\n",
      "300.92048641371537\n",
      "297.63866242924166\n"
     ]
    }
   ],
   "source": [
    "param = {\"base_functions\":cfg.base_functions_2 , \"learning_rate\":0.1, \"reg_coefficient\": 0}\n",
    "\n",
    "\n",
    "model = LinearRegression(**param, experiment_name = f\"exp_final\")\n",
    "\n",
    "model.fit(X_train, y_train, 100)\n",
    "\n"
   ]
  },
  {
   "cell_type": "code",
   "execution_count": 5,
   "metadata": {},
   "outputs": [
    {
     "name": "stdout",
     "output_type": "stream",
     "text": [
      "Loss Validate: 281.8001476512529\n",
      "Фактическое отклонение: +-16.786904052005923\n"
     ]
    }
   ],
   "source": [
    "predictions = model.predict(X_valid)\n",
    "score = MSE(y_valid, predictions)\n",
    "loss = model.calculate_cost_function(model._plan_matrix(X_valid), y_valid)\n",
    "print(f\"Loss Validate: {loss}\")\n",
    "print(f\"Фактическое отклонение: +-{np.sqrt(loss)}\")"
   ]
  },
  {
   "cell_type": "code",
   "execution_count": 7,
   "metadata": {},
   "outputs": [],
   "source": [
    "path_checkpoint = \"./checkpoints/best.pickle\""
   ]
  },
  {
   "cell_type": "code",
   "execution_count": 8,
   "metadata": {},
   "outputs": [],
   "source": [
    "model.save(path_checkpoint)"
   ]
  },
  {
   "cell_type": "code",
   "execution_count": null,
   "metadata": {},
   "outputs": [],
   "source": []
  },
  {
   "cell_type": "code",
   "execution_count": 9,
   "metadata": {},
   "outputs": [],
   "source": [
    "# Загружаем модель\n",
    "loaded_model = LinearRegression.load(path_checkpoint)"
   ]
  },
  {
   "cell_type": "code",
   "execution_count": 10,
   "metadata": {},
   "outputs": [
    {
     "name": "stdout",
     "output_type": "stream",
     "text": [
      "Loss Validate: 281.8001476512529\n",
      "Фактическое отклонение: +-16.786904052005923\n"
     ]
    }
   ],
   "source": [
    "predictions = loaded_model.predict(X_valid)\n",
    "score = MSE(y_valid, predictions)\n",
    "loss = loaded_model.calculate_cost_function(model._plan_matrix(X_valid), y_valid)\n",
    "print(f\"Loss Validate: {loss}\")\n",
    "print(f\"Фактическое отклонение: +-{np.sqrt(loss)}\")"
   ]
  }
 ],
 "metadata": {
  "kernelspec": {
   "display_name": "media_pipe_kernel",
   "language": "python",
   "name": "media_pipe_kernel"
  },
  "language_info": {
   "codemirror_mode": {
    "name": "ipython",
    "version": 3
   },
   "file_extension": ".py",
   "mimetype": "text/x-python",
   "name": "python",
   "nbconvert_exporter": "python",
   "pygments_lexer": "ipython3",
   "version": "3.9.18"
  }
 },
 "nbformat": 4,
 "nbformat_minor": 2
}
